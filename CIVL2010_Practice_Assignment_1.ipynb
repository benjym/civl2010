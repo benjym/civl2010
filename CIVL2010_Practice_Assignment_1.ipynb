{
  "nbformat": 4,
  "nbformat_minor": 0,
  "metadata": {
    "colab": {
      "name": "CIVL2010 Practice Assignment 1.ipynb",
      "provenance": [],
      "collapsed_sections": [],
      "include_colab_link": true
    },
    "kernelspec": {
      "name": "python3",
      "display_name": "Python 3"
    }
  },
  "cells": [
    {
      "cell_type": "markdown",
      "metadata": {
        "id": "view-in-github",
        "colab_type": "text"
      },
      "source": [
        "<a href=\"https://colab.research.google.com/github/benjym/civl2010/blob/master/CIVL2010_Practice_Assignment_1.ipynb\" target=\"_parent\"><img src=\"https://colab.research.google.com/assets/colab-badge.svg\" alt=\"Open In Colab\"/></a>"
      ]
    },
    {
      "cell_type": "code",
      "metadata": {
        "id": "TnEKnqXoqCDf",
        "colab_type": "code",
        "colab": {}
      },
      "source": [
        "import numpy as np"
      ],
      "execution_count": 0,
      "outputs": []
    },
    {
      "cell_type": "markdown",
      "metadata": {
        "id": "8qPnv7EDnJpa",
        "colab_type": "text"
      },
      "source": [
        "# Question 1"
      ]
    },
    {
      "cell_type": "code",
      "metadata": {
        "id": "zoYhTd5UQjQ3",
        "colab_type": "code",
        "colab": {}
      },
      "source": [
        "def OperatingCostCalculator(cost_per_kWh,hours_per_day,wattage):\n",
        "    hours_per_year = hours_per_day*365\n",
        "    energy = wattage*hours_per_year/1000 # kWh\n",
        "    annual_cost = energy*cost_per_kWh\n",
        "    return annual_cost"
      ],
      "execution_count": 0,
      "outputs": []
    },
    {
      "cell_type": "code",
      "metadata": {
        "id": "-6qeRM67nS2L",
        "colab_type": "code",
        "colab": {
          "base_uri": "https://localhost:8080/",
          "height": 34
        },
        "outputId": "d952e092-c395-4dcf-d6fe-4170244695f6"
      },
      "source": [
        "OperatingCostCalculator(1,2,3)"
      ],
      "execution_count": 5,
      "outputs": [
        {
          "output_type": "execute_result",
          "data": {
            "text/plain": [
              "2.19"
            ]
          },
          "metadata": {
            "tags": []
          },
          "execution_count": 5
        }
      ]
    },
    {
      "cell_type": "markdown",
      "metadata": {
        "id": "zbZ0K2_cnNrJ",
        "colab_type": "text"
      },
      "source": [
        "# Question 2"
      ]
    },
    {
      "cell_type": "code",
      "metadata": {
        "id": "2L0zHMRvRmr6",
        "colab_type": "code",
        "colab": {}
      },
      "source": [
        "def CarsToBalloons(car_speed,car_mass,c_d,A,stopping_distance,vehicle_kilometers_travelled):\n",
        "    speed_m_per_s = car_speed/3.6 # m/s\n",
        "    power = 2*(speed_m_per_s**3)*(car_mass/stopping_distance + 1.3*c_d*A) # W\n",
        "    total_time = vehicle_kilometers_travelled*1000/speed_m_per_s # s\n",
        "    energy = power*total_time # J\n",
        "    volume_of_CO2 = energy/34e6 # 34 MJ/L\n",
        "    mass_of_CO2 = volume_of_CO2*2.3 # 2.3 kg of CO2/L burned\n",
        "    moles_CO2 = mass_of_CO2*1000/44.01 # 44.01 is the molar weight of CO2\n",
        "    V = moles_CO2*8.314*(273.15+20)/1e5 # cubic metres\n",
        "    balloons = V/0.015 # number of balloons\n",
        "    return balloons"
      ],
      "execution_count": 0,
      "outputs": []
    },
    {
      "cell_type": "code",
      "metadata": {
        "id": "tWWVT6qSQ8lh",
        "colab_type": "code",
        "outputId": "7391f06c-42c2-4970-97ce-364bc7c39c96",
        "colab": {
          "base_uri": "https://localhost:8080/",
          "height": 34
        }
      },
      "source": [
        "CarsToBalloons(1,2,3,4,5,6)"
      ],
      "execution_count": 9,
      "outputs": [
        {
          "output_type": "execute_result",
          "data": {
            "text/plain": [
              "0.03700006075730132"
            ]
          },
          "metadata": {
            "tags": []
          },
          "execution_count": 9
        }
      ]
    },
    {
      "cell_type": "code",
      "metadata": {
        "id": "dQhq6oPVQ_px",
        "colab_type": "code",
        "colab": {}
      },
      "source": [
        "def WindLoads(f_y,D,t,L,v_10):\n",
        "    # M_max = FH\n",
        "    # M_cap = f_y*I/R\n",
        "    # I = pi/4*(R^4 - r^4)\n",
        "    # F = 0.5*rho*A*v^2\n",
        "    # rho = 1.3\n",
        "    # v = v_10*(H/10.)^0.143\n",
        "    \n",
        "    # Setting M_max = M_cap\n",
        "    # 0.5*rho*A*v_10^2*H^1.286/10^0.286 = f_y*pi*(R^4 - r^4)/(4*R)\n",
        "    # rearrange for H to get the equation below\n",
        "    \n",
        "    A = np.pi*L**2 # area of the wind turbine blades\n",
        "    R = D/2. # outer radius of CHS in m\n",
        "    r = R - t # inner radius of CHS in m\n",
        "    height = ((f_y*np.pi*(R**4-r**4)*10**0.286)/(2*R*1.3*A*v_10**2))**(1/1.286)\n",
        "    return height"
      ],
      "execution_count": 0,
      "outputs": []
    },
    {
      "cell_type": "code",
      "metadata": {
        "id": "Ofn2nzOaRA9w",
        "colab_type": "code",
        "outputId": "9d02da5c-7777-4230-e486-cfcaa7f84759",
        "colab": {
          "base_uri": "https://localhost:8080/",
          "height": 34
        }
      },
      "source": [
        "WindLoads(1,10,1,4,5)"
      ],
      "execution_count": 15,
      "outputs": [
        {
          "output_type": "execute_result",
          "data": {
            "text/plain": [
              "0.21327738517484282"
            ]
          },
          "metadata": {
            "tags": []
          },
          "execution_count": 15
        }
      ]
    },
    {
      "cell_type": "code",
      "metadata": {
        "id": "ixIRbJ3-VVxb",
        "colab_type": "code",
        "colab": {}
      },
      "source": [
        ""
      ],
      "execution_count": 0,
      "outputs": []
    }
  ]
}