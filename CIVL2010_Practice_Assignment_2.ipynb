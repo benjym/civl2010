{
  "nbformat": 4,
  "nbformat_minor": 0,
  "metadata": {
    "colab": {
      "name": "CIVL2010 Practice Assignment 2.ipynb",
      "provenance": [],
      "collapsed_sections": [],
      "include_colab_link": true
    },
    "kernelspec": {
      "name": "python3",
      "display_name": "Python 3"
    }
  },
  "cells": [
    {
      "cell_type": "markdown",
      "metadata": {
        "id": "view-in-github",
        "colab_type": "text"
      },
      "source": [
        "<a href=\"https://colab.research.google.com/github/benjym/civl2010/blob/master/CIVL2010_Practice_Assignment_2.ipynb\" target=\"_parent\"><img src=\"https://colab.research.google.com/assets/colab-badge.svg\" alt=\"Open In Colab\"/></a>"
      ]
    },
    {
      "cell_type": "code",
      "metadata": {
        "id": "TKYjHfxARFlp",
        "colab_type": "code",
        "colab": {}
      },
      "source": [
        "import numpy as np\n",
        "import matplotlib.pyplot as plt"
      ],
      "execution_count": 0,
      "outputs": []
    },
    {
      "cell_type": "code",
      "metadata": {
        "id": "zoYhTd5UQjQ3",
        "colab_type": "code",
        "colab": {}
      },
      "source": [
        "# Question 1\n",
        "def BuildGrids(x_min,x_max,y_min,y_max,Nx,Ny):\n",
        "    x = np.linspace(x_min,x_max,Nx)\n",
        "    y = np.linspace(y_min,y_max,Ny)\n",
        "    \n",
        "    X,Y = np.meshgrid(x,y)\n",
        "    return X, Y"
      ],
      "execution_count": 0,
      "outputs": []
    },
    {
      "cell_type": "code",
      "metadata": {
        "id": "2L0zHMRvRmr6",
        "colab_type": "code",
        "colab": {}
      },
      "source": [
        "# Question 2\n",
        "def Grapher(X,Y,Z,xlabel,ylabel,clabel,cmin,cmax,filename):\n",
        "    plt.pcolormesh(X,Y,Z,vmin=cmin,vmax=cmax)\n",
        "    plt.xlabel(xlabel)\n",
        "    plt.ylabel(ylabel)\n",
        "    cb = plt.colorbar()\n",
        "    cb.set_label(clabel)\n",
        "    # plt.savefig(filename + '.png')\n",
        "    plt.show()"
      ],
      "execution_count": 0,
      "outputs": []
    },
    {
      "cell_type": "code",
      "metadata": {
        "id": "tWWVT6qSQ8lh",
        "colab_type": "code",
        "outputId": "0a883321-1946-41b2-a3b3-dacd192e4f9c",
        "colab": {
          "base_uri": "https://localhost:8080/",
          "height": 283
        }
      },
      "source": [
        "X,Y = BuildGrids(0,1,2,3,10,20)\n",
        "Z = np.sin(X)**2 + np.sin(Y)**2\n",
        "Grapher(X,Y,Z,'df','asad','sdghfs',0,1,'tt')"
      ],
      "execution_count": 21,
      "outputs": [
        {
          "output_type": "display_data",
          "data": {
            "image/png": "[encoded data removed]",
            "text/plain": [
              "<Figure size 432x288 with 2 Axes>"
            ]
          },
          "metadata": {
            "tags": []
          }
        }
      ]
    },
    {
      "cell_type": "code",
      "metadata": {
        "id": "dQhq6oPVQ_px",
        "colab_type": "code",
        "colab": {}
      },
      "source": [
        "# Question 3\n",
        "def DoubleGrapher(X,Y,Z1,Z2,xlabel,ylabel,clabel,cmins,cmaxs,filename):\n",
        "    plt.subplot(121)\n",
        "    plt.pcolormesh(X,Y,Z1,vmin=cmins[0],vmax=cmaxs[0])\n",
        "    plt.xlabel(xlabel)\n",
        "    plt.ylabel(ylabel)\n",
        "    cb = plt.colorbar()\n",
        "    cb.set_label(clabel)\n",
        "\n",
        "    plt.subplot(122)\n",
        "    plt.pcolormesh(X,Y,Z2,vmin=cmins[1],vmax=cmaxs[1])\n",
        "    plt.xlabel(xlabel)\n",
        "    plt.ylabel(ylabel)\n",
        "    cb = plt.colorbar()\n",
        "    cb.set_label(clabel)\n",
        "    # plt.savefig(filename + '.png')\n",
        "    plt.show()"
      ],
      "execution_count": 0,
      "outputs": []
    },
    {
      "cell_type": "code",
      "metadata": {
        "id": "Ofn2nzOaRA9w",
        "colab_type": "code",
        "outputId": "bb635235-5d67-4cfa-8ce6-2c44d360a0f6",
        "colab": {
          "base_uri": "https://localhost:8080/",
          "height": 283
        }
      },
      "source": [
        "X,Y = BuildGrids(0,1,2,3,10,20)\n",
        "Z1 = np.sin(X)**2 + np.sin(Y)**2\n",
        "Z2 = np.sin(X)**2 - np.sin(Y)**2\n",
        "DoubleGrapher(X,Y,Z1,Z2,'df','asad','sdghfs',[0,-1],[1,2],'tt')"
      ],
      "execution_count": 23,
      "outputs": [
        {
          "output_type": "display_data",
          "data": {
            "image/png": "[encoded data removed]",
            "text/plain": [
              "<Figure size 432x288 with 4 Axes>"
            ]
          },
          "metadata": {
            "tags": []
          }
        }
      ]
    },
    {
      "cell_type": "code",
      "metadata": {
        "id": "ixIRbJ3-VVxb",
        "colab_type": "code",
        "colab": {}
      },
      "source": [
        ""
      ],
      "execution_count": 0,
      "outputs": []
    }
  ]
}