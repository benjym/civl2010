{
 "cells": [
  {
   "cell_type": "markdown",
   "id": "66de1f7a",
   "metadata": {},
   "source": [
    "[![Binder](https://mybinder.org/badge_logo.svg)](https://mybinder.org/v2/gh/benjym/civl2010/HEAD?labpath=notebooks%2FPlotting.ipynb)"
   ]
  },
  {
   "cell_type": "code",
   "execution_count": 4,
   "id": "45b2bc8e",
   "metadata": {},
   "outputs": [],
   "source": [
    "import numpy as np\n",
    "import matplotlib.pyplot as plt\n",
    "from scipy.interpolate import interp2d"
   ]
  },
  {
   "cell_type": "markdown",
   "id": "8562743d",
   "metadata": {},
   "source": [
    "In this tutorial you will get practice on making some common graphs with Python. In particular, you will focus on:\n",
    "1. Histograms\n",
    "2. Contour plots\n",
    "3. Interpolating scattered data\n",
    "\n",
    "\n",
    "# Question 1 — Making histograms\n",
    "You are give a set of measurements `P`. Create a histogram ([see here](https://matplotlib.org/stable/api/_as_gen/matplotlib.pyplot.hist.html)) of these measurements with 11 bins, linearly spaced from 0 to 20. Add meaningful axis labels.\n",
    "\n",
    "Show this to your tutor to get confirmation that this is working."
   ]
  },
  {
   "cell_type": "code",
   "execution_count": 5,
   "id": "45534a82",
   "metadata": {},
   "outputs": [],
   "source": [
    "P = [17.805,1.126,5.506,4.950,0.145,17.488,0.031,0.556,3.660,0.974,1.699,1.479,9.436,1.411,0.887,14.567,15.791,13.822,0.017,3.130,3.511,6.915,11.471,8.438,7.286,0.013,18.797,4.801,3.928,14.045,0.029,0.189,0.160,3.782,9.356,15.013,17.051,4.081,15.744,17.819,7.308,1.576,1.820,1.512,1.011,0.372,0.094,2.190,2.423,10.991]\n"
   ]
  },
  {
   "cell_type": "markdown",
   "id": "222c5651",
   "metadata": {},
   "source": [
    "# Question 2 — Making a 2D filled contour plot\n",
    "In the following, the 1D arrays `x` and `y` represent the distance along coordinate axes in metres. The 2D array `c` represents the concentration of a contaminant at each of those locations in space. Create a set of nine filled contour lines ([see here](https://matplotlib.org/stable/api/_as_gen/matplotlib.pyplot.contourf.html)), from concentrations of 0 to 1, that display this data. Include axis labels, a colorbar and a colorbar label.\n",
    "\n",
    "Show this to your tutor to get confirmation that this is working."
   ]
  },
  {
   "cell_type": "code",
   "execution_count": 6,
   "id": "a034c12a",
   "metadata": {},
   "outputs": [],
   "source": [
    "y = [0,1,2,3,4,5]\n",
    "x = [0,2,4,6,8]\n",
    "\n",
    "c = [[  0,   0,   0,   0,   0],\n",
    "     [  0,   2,   4,   6,   8],\n",
    "     [  0,   8,  16,  24,  32],\n",
    "     [  0,  18,  36,  54,  72],\n",
    "     [  0,  32,  64,  96, 128],\n",
    "     [  0,  50, 100, 150, 200]]\n",
    "\n"
   ]
  },
  {
   "cell_type": "markdown",
   "id": "a8d9d1d3",
   "metadata": {},
   "source": [
    "# Question 3 — Interpolating data onto a grid\n",
    "The 2D array `N` represents a set of measurements taken at different locations in space. The first column represents the `x` coordinate, the second column the `y` coordinate and the third column the concentration at that location. First, plot all of these points using [this function](https://matplotlib.org/stable/api/_as_gen/matplotlib.pyplot.scatter.html) so that the size of each point is proportional to the concentration.\n",
    "\n",
    "Then, linearly interpolate this data onto a cartesian grid. Finally, plot this interpolated data as a contour plot. Use [this function](https://docs.scipy.org/doc/scipy/reference/generated/scipy.interpolate.interp2d.html) to do the interpolation. You will need to limit the contour lines to be only positive values to remove spurious measurements produced by the linear interpolation.\n",
    "\n",
    "Show this to your tutor to get confirmation that this is working."
   ]
  },
  {
   "cell_type": "code",
   "execution_count": 7,
   "id": "3585e926",
   "metadata": {},
   "outputs": [],
   "source": [
    "N =  np.array([[6.375, 0.637, 2.590],\n",
    "               [7.124, 1.009, 7.252],\n",
    "               [0.819, 2.407, 4.743],\n",
    "               [2.368, 2.232, 11.797],\n",
    "               [4.065, 0.515, 1.078],\n",
    "               [3.971, 2.176, 18.797],\n",
    "               [7.466, 2.809, 58.896],\n",
    "               [2.497, 2.395, 14.317],\n",
    "               [4.901, 2.840, 39.513],\n",
    "               [7.322, 4.817, 169.917],\n",
    "               [5.847, 2.829, 46.804],\n",
    "               [3.080, 0.193, 0.115],\n",
    "               [5.703, 1.198, 8.189],\n",
    "               [7.065, 0.452, 1.441],\n",
    "               [3.844, 3.081, 36.491],\n",
    "               [2.749, 4.120, 46.646],\n",
    "               [0.062, 3.843, 0.920],\n",
    "               [1.239, 3.982, 19.654],\n",
    "               [4.462, 4.634, 95.823],\n",
    "               [7.812, 4.583, 164.064],\n",
    "               [2.299, 2.716, 16.958],\n",
    "               [6.199, 2.512, 39.121],\n",
    "               [7.647, 1.173, 10.521],\n",
    "               [0.769, 0.052, 0.002],\n",
    "               [4.628, 4.009, 74.362],\n",
    "               [7.784, 0.997, 7.733],\n",
    "               [2.274, 1.367, 4.247],\n",
    "               [7.712, 4.092, 129.135],\n",
    "               [7.272, 3.678, 98.395],\n",
    "               [2.318, 3.819, 33.802],\n",
    "               [4.635, 1.605, 11.940],\n",
    "               [5.368, 1.038, 5.785],\n",
    "               [5.797, 0.534, 1.654],\n",
    "               [3.098, 2.334, 16.876],\n",
    "               [2.539, 0.361, 0.330],\n",
    "               [6.256, 2.722, 46.352],\n",
    "               [1.044, 4.912, 25.180],\n",
    "               [6.165, 2.722, 45.662],\n",
    "               [0.081, 4.359, 1.538],\n",
    "               [4.779, 4.774, 108.911],\n",
    "               [5.066, 3.345, 56.669],\n",
    "               [2.423, 3.653, 32.344],\n",
    "               [5.501, 2.838, 44.305],\n",
    "               [7.395, 0.570, 2.399],\n",
    "               [7.998, 3.147, 79.213],\n",
    "               [2.566, 1.129, 3.272],\n",
    "               [4.430, 4.571, 92.572],\n",
    "               [0.921, 1.922, 3.403],\n",
    "               [5.025, 3.920, 77.213],\n",
    "               [6.338, 0.693, 3.045],\n",
    "               [4.376, 4.911, 105.527],\n",
    "               [6.516, 2.536, 41.898],\n",
    "               [6.672, 2.919, 56.848],\n",
    "               [0.527, 0.049, 0.001],\n",
    "               [5.165, 3.571, 65.872],\n",
    "               [4.977, 0.647, 2.083],\n",
    "               [2.147, 3.401, 24.831],\n",
    "               [4.603, 1.134, 5.921],\n",
    "               [5.117, 3.749, 71.908],\n",
    "               [1.431, 0.585, 0.490],\n",
    "               [4.957, 1.112, 6.130],\n",
    "               [1.744, 0.424, 0.314],\n",
    "               [0.956, 3.945, 14.868],\n",
    "               [6.117, 0.771, 3.631],\n",
    "               [4.350, 0.155, 0.104],\n",
    "               [2.014, 1.066, 2.290],\n",
    "               [4.927, 0.963, 4.572],\n",
    "               [0.021, 4.838, 0.500],\n",
    "               [7.736, 3.513, 95.459],\n",
    "               [4.532, 2.676, 32.448],\n",
    "               [4.237, 3.665, 56.904],\n",
    "               [0.687, 3.161, 6.866],\n",
    "               [5.927, 2.292, 31.128],\n",
    "               [1.864, 3.076, 17.638],\n",
    "               [5.505, 4.167, 95.581],\n",
    "               [7.045, 0.677, 3.233],\n",
    "               [6.071, 1.115, 7.549],\n",
    "               [5.442, 4.719, 121.192],\n",
    "               [1.840, 3.766, 26.094],\n",
    "               [3.859, 0.954, 3.515],\n",
    "               [2.060, 4.991, 51.312],\n",
    "               [3.357, 1.156, 4.487],\n",
    "               [6.287, 4.182, 109.964],\n",
    "               [5.905, 2.347, 32.529],\n",
    "               [4.402, 0.875, 3.366],\n",
    "               [1.191, 4.614, 25.358],\n",
    "               [5.599, 0.004, 0.000],\n",
    "               [7.193, 1.306, 12.277],\n",
    "               [3.560, 1.143, 4.655],\n",
    "               [0.117, 4.963, 2.891],\n",
    "               [4.258, 1.989, 16.851],\n",
    "               [5.552, 2.780, 42.914],\n",
    "               [4.893, 3.248, 51.630],\n",
    "               [1.692, 3.672, 22.821],\n",
    "               [5.943, 3.694, 81.092],\n",
    "               [6.343, 3.613, 82.811],\n",
    "               [6.141, 2.458, 37.114],\n",
    "               [6.091, 3.993, 97.117],\n",
    "               [5.887, 1.879, 20.785],\n",
    "               [3.240, 1.488, 7.171]])\n",
    "\n"
   ]
  },
  {
   "cell_type": "markdown",
   "id": "f5c3fc5f",
   "metadata": {},
   "source": [
    "Use any remaining time to get started on your Enviro Day Lab Report!"
   ]
  },
  {
   "cell_type": "code",
   "execution_count": null,
   "id": "1c9a7404",
   "metadata": {},
   "outputs": [],
   "source": []
  }
 ],
 "metadata": {
  "kernelspec": {
   "display_name": "Python 3 (ipykernel)",
   "language": "python",
   "name": "python3"
  },
  "language_info": {
   "codemirror_mode": {
    "name": "ipython",
    "version": 3
   },
   "file_extension": ".py",
   "mimetype": "text/x-python",
   "name": "python",
   "nbconvert_exporter": "python",
   "pygments_lexer": "ipython3",
   "version": "3.9.7"
  }
 },
 "nbformat": 4,
 "nbformat_minor": 5
}
